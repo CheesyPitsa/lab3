{
 "cells": [
  {
   "cell_type": "code",
   "execution_count": 11,
   "id": "a5daca52-7981-4df2-9722-a9261160a23a",
   "metadata": {
    "collapsed": true,
    "jupyter": {
     "outputs_hidden": true
    },
    "tags": []
   },
   "outputs": [
    {
     "name": "stdout",
     "output_type": "stream",
     "text": [
      "Requirement already satisfied: torch<1.13.0,>=1.6.0 in c:\\users\\alexa\\appdata\\local\\programs\\python\\python38\\lib\\site-packages (1.12.1)\n",
      "Requirement already satisfied: typing-extensions in c:\\users\\alexa\\appdata\\local\\programs\\python\\python38\\lib\\site-packages (from torch<1.13.0,>=1.6.0) (4.4.0)\n",
      "Requirement already satisfied: transformers<4.21.0,>=4.13.0 in c:\\users\\alexa\\appdata\\local\\programs\\python\\python38\\lib\\site-packages (4.20.1)\n",
      "Requirement already satisfied: packaging>=20.0 in c:\\users\\alexa\\appdata\\local\\programs\\python\\python38\\lib\\site-packages (from transformers<4.21.0,>=4.13.0) (22.0)\n",
      "Requirement already satisfied: tqdm>=4.27 in c:\\users\\alexa\\appdata\\local\\programs\\python\\python38\\lib\\site-packages (from transformers<4.21.0,>=4.13.0) (4.64.1)\n",
      "Requirement already satisfied: numpy>=1.17 in c:\\users\\alexa\\appdata\\local\\programs\\python\\python38\\lib\\site-packages (from transformers<4.21.0,>=4.13.0) (1.24.0)\n",
      "Requirement already satisfied: requests in c:\\users\\alexa\\appdata\\local\\programs\\python\\python38\\lib\\site-packages (from transformers<4.21.0,>=4.13.0) (2.28.1)\n",
      "Requirement already satisfied: tokenizers!=0.11.3,<0.13,>=0.11.1 in c:\\users\\alexa\\appdata\\local\\programs\\python\\python38\\lib\\site-packages (from transformers<4.21.0,>=4.13.0) (0.12.1)\n",
      "Requirement already satisfied: filelock in c:\\users\\alexa\\appdata\\local\\programs\\python\\python38\\lib\\site-packages (from transformers<4.21.0,>=4.13.0) (3.7.1)\n",
      "Requirement already satisfied: regex!=2019.12.17 in c:\\users\\alexa\\appdata\\local\\programs\\python\\python38\\lib\\site-packages (from transformers<4.21.0,>=4.13.0) (2022.10.31)\n",
      "Requirement already satisfied: pyyaml>=5.1 in c:\\users\\alexa\\appdata\\local\\programs\\python\\python38\\lib\\site-packages (from transformers<4.21.0,>=4.13.0) (6.0)\n",
      "Requirement already satisfied: huggingface-hub<1.0,>=0.1.0 in c:\\users\\alexa\\appdata\\local\\programs\\python\\python38\\lib\\site-packages (from transformers<4.21.0,>=4.13.0) (0.11.1)\n",
      "Requirement already satisfied: typing-extensions>=3.7.4.3 in c:\\users\\alexa\\appdata\\local\\programs\\python\\python38\\lib\\site-packages (from huggingface-hub<1.0,>=0.1.0->transformers<4.21.0,>=4.13.0) (4.4.0)\n",
      "Requirement already satisfied: colorama in c:\\users\\alexa\\appdata\\local\\programs\\python\\python38\\lib\\site-packages (from tqdm>=4.27->transformers<4.21.0,>=4.13.0) (0.4.6)\n",
      "Requirement already satisfied: idna<4,>=2.5 in c:\\users\\alexa\\appdata\\local\\programs\\python\\python38\\lib\\site-packages (from requests->transformers<4.21.0,>=4.13.0) (3.4)\n",
      "Requirement already satisfied: certifi>=2017.4.17 in c:\\users\\alexa\\appdata\\local\\programs\\python\\python38\\lib\\site-packages (from requests->transformers<4.21.0,>=4.13.0) (2022.12.7)\n",
      "Requirement already satisfied: charset-normalizer<3,>=2 in c:\\users\\alexa\\appdata\\local\\programs\\python\\python38\\lib\\site-packages (from requests->transformers<4.21.0,>=4.13.0) (2.1.1)\n",
      "Requirement already satisfied: urllib3<1.27,>=1.21.1 in c:\\users\\alexa\\appdata\\local\\programs\\python\\python38\\lib\\site-packages (from requests->transformers<4.21.0,>=4.13.0) (1.26.13)\n"
     ]
    }
   ],
   "source": [
    "!python -m deeppavlov install insults_kaggle_bert"
   ]
  },
  {
   "cell_type": "code",
   "execution_count": 13,
   "id": "c2f59360",
   "metadata": {
    "collapsed": true,
    "jupyter": {
     "outputs_hidden": true
    },
    "tags": []
   },
   "outputs": [
    {
     "name": "stderr",
     "output_type": "stream",
     "text": [
      "2022-12-22 14:29:42.787 INFO in 'deeppavlov.download'['download'] at line 138: Skipped http://files.deeppavlov.ai/v1/squad/squad_torch_bert_cased.tar.gz download because of matching hashes\n",
      "Some weights of the model checkpoint at bert-base-cased were not used when initializing BertForQuestionAnswering: ['cls.predictions.transform.dense.bias', 'cls.predictions.transform.LayerNorm.weight', 'cls.predictions.decoder.weight', 'cls.predictions.bias', 'cls.predictions.transform.dense.weight', 'cls.seq_relationship.weight', 'cls.seq_relationship.bias', 'cls.predictions.transform.LayerNorm.bias']\n",
      "- This IS expected if you are initializing BertForQuestionAnswering from the checkpoint of a model trained on another task or with another architecture (e.g. initializing a BertForSequenceClassification model from a BertForPreTraining model).\n",
      "- This IS NOT expected if you are initializing BertForQuestionAnswering from the checkpoint of a model that you expect to be exactly identical (initializing a BertForSequenceClassification model from a BertForSequenceClassification model).\n",
      "Some weights of BertForQuestionAnswering were not initialized from the model checkpoint at bert-base-cased and are newly initialized: ['qa_outputs.weight', 'qa_outputs.bias']\n",
      "You should probably TRAIN this model on a down-stream task to be able to use it for predictions and inference.\n"
     ]
    }
   ],
   "source": [
    "from deeppavlov import build_model\n",
    "\n",
    "model = build_model('squad_bert', download=True)"
   ]
  },
  {
   "cell_type": "code",
   "execution_count": 32,
   "id": "9a6b5f9f",
   "metadata": {
    "tags": []
   },
   "outputs": [
    {
     "data": {
      "text/plain": [
       "[['stupid idiots'], [11], [1.0]]"
      ]
     },
     "execution_count": 32,
     "metadata": {},
     "output_type": "execute_result"
    }
   ],
   "source": [
    "q = 'Vlad beats stupid idiots'\n",
    "a = 'What beats Vlad?'\n",
    "x = model([q], [a])\n",
    "x"
   ]
  },
  {
   "cell_type": "code",
   "execution_count": 33,
   "id": "e5c0cbb9",
   "metadata": {
    "collapsed": true,
    "jupyter": {
     "outputs_hidden": true
    },
    "tags": []
   },
   "outputs": [
    {
     "name": "stderr",
     "output_type": "stream",
     "text": [
      "2022-12-22 14:33:27.852 INFO in 'deeppavlov.download'['download'] at line 138: Skipped http://files.deeppavlov.ai/datasets/insults_data.tar.gz download because of matching hashes\n",
      "2022-12-22 14:33:30.193 INFO in 'deeppavlov.download'['download'] at line 138: Skipped http://files.deeppavlov.ai/deeppavlov_data/classifiers/insults_kaggle_torch_bert_v5.tar.gz download because of matching hashes\n",
      "Some weights of the model checkpoint at bert-base-uncased were not used when initializing BertForSequenceClassification: ['cls.predictions.transform.dense.bias', 'cls.predictions.transform.LayerNorm.weight', 'cls.predictions.decoder.weight', 'cls.predictions.bias', 'cls.predictions.transform.dense.weight', 'cls.seq_relationship.weight', 'cls.seq_relationship.bias', 'cls.predictions.transform.LayerNorm.bias']\n",
      "- This IS expected if you are initializing BertForSequenceClassification from the checkpoint of a model trained on another task or with another architecture (e.g. initializing a BertForSequenceClassification model from a BertForPreTraining model).\n",
      "- This IS NOT expected if you are initializing BertForSequenceClassification from the checkpoint of a model that you expect to be exactly identical (initializing a BertForSequenceClassification model from a BertForSequenceClassification model).\n",
      "Some weights of BertForSequenceClassification were not initialized from the model checkpoint at bert-base-uncased and are newly initialized: ['classifier.bias', 'classifier.weight']\n",
      "You should probably TRAIN this model on a down-stream task to be able to use it for predictions and inference.\n"
     ]
    }
   ],
   "source": [
    "newmodel = build_model('insults_kaggle_bert', download=True)"
   ]
  },
  {
   "cell_type": "code",
   "execution_count": 34,
   "id": "d331d8f5-5d4d-496a-a5a1-928aea498063",
   "metadata": {},
   "outputs": [
    {
     "data": {
      "text/plain": [
       "['Insult']"
      ]
     },
     "execution_count": 34,
     "metadata": {},
     "output_type": "execute_result"
    }
   ],
   "source": [
    "res = x[0]\n",
    "newmodel(res)"
   ]
  },
  {
   "cell_type": "code",
   "execution_count": null,
   "id": "20bd595a-28c8-49b4-b457-c3b2bce19def",
   "metadata": {},
   "outputs": [],
   "source": []
  }
 ],
 "metadata": {
  "kernelspec": {
   "display_name": "Python 3 (ipykernel)",
   "language": "python",
   "name": "python3"
  },
  "language_info": {
   "codemirror_mode": {
    "name": "ipython",
    "version": 3
   },
   "file_extension": ".py",
   "mimetype": "text/x-python",
   "name": "python",
   "nbconvert_exporter": "python",
   "pygments_lexer": "ipython3",
   "version": "3.8.10"
  }
 },
 "nbformat": 4,
 "nbformat_minor": 5
}
